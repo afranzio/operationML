{
 "cells": [
  {
   "cell_type": "code",
   "execution_count": 79,
   "id": "2b0f3e1e",
   "metadata": {},
   "outputs": [
    {
     "name": "stdout",
     "output_type": "stream",
     "text": [
      "ICBK_14072017_13072022.csv\n",
      "RELI_14072017_13072022.csv\n",
      "DLF_14072017_13072022.csv\n",
      "BRTI_14072017_13072022.csv\n",
      "TISC_14072017_13072022.csv\n"
     ]
    }
   ],
   "source": [
    "from datetime import *\n",
    "import investpy\n",
    "\n",
    "def five_years_before():\n",
    "    five_years = (datetime.now() - timedelta(days=5*365)).strftime(\"%d/%m/%Y\")\n",
    "    return five_years\n",
    "\n",
    "def get_today():\n",
    "    return datetime.now().strftime(\"%d/%m/%Y\")\n",
    "\n",
    "def generate_csv(stock, stock_country):\n",
    "    df = investpy.get_stock_historical_data(stock=stock, country=stock_country, from_date=five_years_before(), to_date=get_today())\n",
    "    file_name = stock + \"_\" + five_years_before().replace('/', '') + \"_\" + get_today().replace('/', '') + '.csv'\n",
    "    df.to_csv(file_name + '.csv')\n",
    "    \n",
    "list_of_stocks = ['ICBK','RELI', 'DLF', 'BRTI','TISC']\n",
    "\n",
    "for stock in list_of_stocks:\n",
    "    search_country = investpy.search_quotes(text=stock, products=['stocks'], n_results=1)\n",
    "    if stock=='RELI':\n",
    "        generate_csv(stock, 'india')\n",
    "    else:\n",
    "        generate_csv(stock, search_country.country)\n",
    "    "
   ]
  },
  {
   "cell_type": "code",
   "execution_count": null,
   "id": "8a674556",
   "metadata": {},
   "outputs": [],
   "source": []
  },
  {
   "cell_type": "code",
   "execution_count": null,
   "id": "98e91b54",
   "metadata": {},
   "outputs": [],
   "source": []
  },
  {
   "cell_type": "code",
   "execution_count": null,
   "id": "2d4b6ff0",
   "metadata": {},
   "outputs": [],
   "source": []
  }
 ],
 "metadata": {
  "kernelspec": {
   "display_name": "Python 3 (ipykernel)",
   "language": "python",
   "name": "python3"
  },
  "language_info": {
   "codemirror_mode": {
    "name": "ipython",
    "version": 3
   },
   "file_extension": ".py",
   "mimetype": "text/x-python",
   "name": "python",
   "nbconvert_exporter": "python",
   "pygments_lexer": "ipython3",
   "version": "3.8.5"
  }
 },
 "nbformat": 4,
 "nbformat_minor": 5
}
