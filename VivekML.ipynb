{
 "cells": [
  {
   "cell_type": "code",
   "execution_count": 14,
   "id": "2b0f3e1e",
   "metadata": {},
   "outputs": [],
   "source": [
    "from datetime import *\n",
    "import investpy\n",
    "import pandas as pd\n",
    "\n",
    "def five_years_before():\n",
    "    five_years = (datetime.now() - timedelta(days=5*365)).strftime(\"%d/%m/%Y\")\n",
    "    return five_years\n",
    "\n",
    "def get_today():\n",
    "    return datetime.now().strftime(\"%d/%m/%Y\")\n",
    "\n",
    "def generate_stock_csv(stock, stock_country):\n",
    "    df = investpy.get_stock_historical_data(stock=stock, country=stock_country, from_date=five_years_before(), to_date=get_today())\n",
    "    file_name = stock + \"_\" + five_years_before().replace('/', '') + \"_\" + get_today().replace('/', '')\n",
    "    print(file_name, \"created successfully\", stock)\n",
    "    df.to_csv(file_name + '.csv')\n",
    "    \n",
    "def generate_index_csv(index, index_country):\n",
    "    df = investpy.get_index_historical_data(index=index, country=index_country, from_date=five_years_before(), to_date=get_today())\n",
    "    file_name = index + \"_\" + five_years_before().replace('/', '') + \"_\" + get_today().replace('/', '')\n",
    "    print(file_name, \"created successfully\", index)\n",
    "    df.to_csv(file_name + '.csv')\n",
    "#     print(file_name, \"created successfully\", stock)\n",
    "#     df.to_csv(file_name + '.csv')\n",
    "    "
   ]
  },
  {
   "cell_type": "code",
   "execution_count": null,
   "id": "8a674556",
   "metadata": {},
   "outputs": [],
   "source": [
    "def stock_operator():\n",
    "    data = pd.read_csv('stockBook.csv')\n",
    "    list_of_stocks = data['StockId']\n",
    "\n",
    "    for stock in list_of_stocks:\n",
    "        search_country = investpy.search_quotes(text=stock, products=['stocks'], n_results=1)\n",
    "        if stock=='RELI':\n",
    "            generate_stock_csv(stock, 'india')\n",
    "        else:\n",
    "            generate_stock_csv(stock, search_country.country)"
   ]
  },
  {
   "cell_type": "code",
   "execution_count": null,
   "id": "98e91b54",
   "metadata": {},
   "outputs": [],
   "source": [
    "def index_operator():\n",
    "    data = pd.read_csv('indexBook.csv')\n",
    "    list_of_indexs = data['IndexName']\n",
    "\n",
    "    for index in list_of_indexs:\n",
    "        search_country = investpy.search_quotes(text=index, products=['indices'], n_results=1)\n",
    "        generate_index_csv(index, search_country.country)\n",
    "\n",
    "index_operator()"
   ]
  },
  {
   "cell_type": "code",
   "execution_count": null,
   "id": "2d4b6ff0",
   "metadata": {},
   "outputs": [],
   "source": []
  },
  {
   "cell_type": "code",
   "execution_count": 27,
   "id": "6237de18",
   "metadata": {},
   "outputs": [
    {
     "name": "stdout",
     "output_type": "stream",
     "text": [
      "stocks ERROR BRTI1707201716072022.csv\n",
      "stocks ERROR DLF1707201716072022.csv\n",
      "stocks ERROR ICBK1707201716072022.csv\n",
      "stocks ERROR RELI1707201716072022.csv\n",
      "stocks ERROR TISC1707201716072022.csv\n"
     ]
    }
   ],
   "source": [
    "import pandas as pd\n",
    "from ta import add_all_ta_features\n",
    "from ta.utils import dropna\n",
    "import os\n",
    "\n",
    "folders = ['stocks', 'indices']\n",
    "\n",
    "for folder in folders:\n",
    "\n",
    "    files = os.listdir(folder)\n",
    "\n",
    "    for file in files:\n",
    "        try:\n",
    "            df = pd.read_csv(folder + '/' + file, sep=',')\n",
    "            df = dropna(df)\n",
    "            df = add_all_ta_features(df, open=\"Open\", high=\"High\", low=\"Low\", close=\"Close\", volume=\"Volume\", fillna=True)\n",
    "            df.to_csv(folder + '/' + file)\n",
    "        except:\n",
    "            print(folder, \"ERROR\", file)"
   ]
  },
  {
   "cell_type": "code",
   "execution_count": null,
   "id": "3ba5d456",
   "metadata": {},
   "outputs": [],
   "source": []
  }
 ],
 "metadata": {
  "kernelspec": {
   "display_name": "Python 3 (ipykernel)",
   "language": "python",
   "name": "python3"
  },
  "language_info": {
   "codemirror_mode": {
    "name": "ipython",
    "version": 3
   },
   "file_extension": ".py",
   "mimetype": "text/x-python",
   "name": "python",
   "nbconvert_exporter": "python",
   "pygments_lexer": "ipython3",
   "version": "3.8.5"
  }
 },
 "nbformat": 4,
 "nbformat_minor": 5
}
