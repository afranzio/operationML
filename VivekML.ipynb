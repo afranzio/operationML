{
 "cells": [
  {
   "cell_type": "code",
   "execution_count": 14,
   "id": "2b0f3e1e",
   "metadata": {},
   "outputs": [],
   "source": [
    "from datetime import *\n",
    "import investpy\n",
    "import pandas as pd\n",
    "\n",
    "def five_years_before():\n",
    "    five_years = (datetime.now() - timedelta(days=5*365)).strftime(\"%d/%m/%Y\")\n",
    "    return five_years\n",
    "\n",
    "def get_today():\n",
    "    return datetime.now().strftime(\"%d/%m/%Y\")\n",
    "\n",
    "def generate_stock_csv(stock, stock_country):\n",
    "    df = investpy.get_stock_historical_data(stock=stock, country=stock_country, from_date=five_years_before(), to_date=get_today())\n",
    "    file_name = stock + \"_\" + five_years_before().replace('/', '') + \"_\" + get_today().replace('/', '') + '.csv'\n",
    "    print(file_name, \"created successfully\", stock)\n",
    "    df.to_csv(file_name + '.csv')\n",
    "    \n",
    "def generate_index_csv(index, index_country):\n",
    "    df = investpy.get_index_historical_data(index=index, country=index_country, from_date=five_years_before(), to_date=get_today())\n",
    "    file_name = index + \"_\" + five_years_before().replace('/', '') + \"_\" + get_today().replace('/', '') + '.csv'\n",
    "    print(file_name, \"created successfully\", index)\n",
    "    df.to_csv(file_name + '.csv')\n",
    "#     print(file_name, \"created successfully\", stock)\n",
    "#     df.to_csv(file_name + '.csv')\n",
    "    "
   ]
  },
  {
   "cell_type": "code",
   "execution_count": null,
   "id": "8a674556",
   "metadata": {},
   "outputs": [],
   "source": [
    "def stock_operator():\n",
    "    data = pd.read_csv('stockBook.csv')\n",
    "    list_of_stocks = data['StockId']\n",
    "\n",
    "    for stock in list_of_stocks:\n",
    "        search_country = investpy.search_quotes(text=stock, products=['stocks'], n_results=1)\n",
    "        if stock=='RELI':\n",
    "            generate_stock_csv(stock, 'india')\n",
    "        else:\n",
    "            generate_stock_csv(stock, search_country.country)"
   ]
  },
  {
   "cell_type": "code",
   "execution_count": 26,
   "id": "98e91b54",
   "metadata": {},
   "outputs": [
    {
     "name": "stdout",
     "output_type": "stream",
     "text": [
      "                Open      High       Low     Close        Volume Currency\n",
      "Date                                                                     \n",
      "2017-07-14   9913.30   9913.30   9845.45   9886.35  164457005056      INR\n",
      "2017-07-17   9908.15   9928.20   9894.70   9915.95  168596996096      INR\n",
      "2017-07-18   9832.70   9885.35   9792.05   9827.15  303007989760      INR\n",
      "2017-07-19   9855.95   9905.05   9851.65   9899.60  206375993344      INR\n",
      "2017-07-20   9920.20   9922.55   9863.45   9873.30  166083002368      INR\n",
      "...              ...       ...       ...       ...           ...      ...\n",
      "2022-07-07  16113.75  16150.50  16045.95  16132.90     264615008      INR\n",
      "2022-07-08  16273.65  16275.50  16157.90  16220.60     281102016      INR\n",
      "2022-07-11  16136.15  16248.55  16115.50  16216.00     255915008      INR\n",
      "2022-07-12  16126.20  16158.75  16031.15  16058.30     208648992      INR\n",
      "2022-07-13  16113.45  16138.20  15950.95  15966.65        233209      INR\n",
      "\n",
      "[1239 rows x 6 columns]\n",
      "                Open      High       Low     Close     Volume Currency\n",
      "Date                                                                  \n",
      "2017-07-14  23949.50  23963.65  23755.95  23937.70   71052000      INR\n",
      "2017-07-17  24011.40  24066.10  23913.65  24015.05   65783000      INR\n",
      "2017-07-18  23958.15  24147.45  23942.10  24022.05   75082000      INR\n",
      "2017-07-19  24069.20  24180.75  24053.70  24152.65   72823000      INR\n",
      "2017-07-20  24170.65  24299.60  24170.65  24213.35   91515000      INR\n",
      "...              ...       ...       ...       ...        ...      ...\n",
      "2022-07-07  34627.40  34965.75  34553.10  34920.30  183972000      INR\n",
      "2022-07-08  35258.90  35262.10  34977.75  35124.05  108961000      INR\n",
      "2022-07-11  35017.60  35543.10  35006.55  35469.65  130626000      INR\n",
      "2022-07-12  35298.70  35419.65  35047.50  35132.25  113401000      INR\n",
      "2022-07-13  35198.30  35305.15  34765.40  34827.80     103406      INR\n",
      "\n",
      "[1239 rows x 6 columns]\n",
      "                Open      High       Low     Close    Volume Currency\n",
      "Date                                                                 \n",
      "2017-07-14  10958.65  10958.65  10870.70  10892.25     19751      INR\n",
      "2017-07-17  10923.05  10964.95  10921.30  10936.45     22798      INR\n",
      "2017-07-18  10927.95  11030.15  10921.25  10954.40     37960      INR\n",
      "2017-07-19  10965.95  11020.15  10964.95  11012.15     26767      INR\n",
      "2017-07-20  11043.30  11055.25  10945.20  10960.70     19929      INR\n",
      "...              ...       ...       ...       ...       ...      ...\n",
      "2022-07-07  12056.60  12132.40  12039.20  12114.10  39383000      INR\n",
      "2022-07-08  12274.35  12303.80  12069.50  12124.60  52751000      INR\n",
      "2022-07-11  12074.65  12266.30  12040.50  12252.50  30880000      INR\n",
      "2022-07-12  12218.50  12220.20  12082.90  12107.35  23442000      INR\n",
      "2022-07-13  12156.25  12187.20  12080.90  12099.35     24750      INR\n",
      "\n",
      "[1237 rows x 6 columns]\n",
      "                Open      High       Low     Close    Volume Currency\n",
      "Date                                                                 \n",
      "2017-07-14   9897.95   9994.65   9875.40   9958.25     16567      INR\n",
      "2017-07-17   9993.85  10020.35   9933.00   9994.75     12191      INR\n",
      "2017-07-18   9983.05  10096.80   9968.95  10024.30      9455      INR\n",
      "2017-07-19  10128.50  10245.45  10118.60  10234.60     19344      INR\n",
      "2017-07-20  10256.05  10259.65  10125.15  10140.75      7281      INR\n",
      "...              ...       ...       ...       ...       ...      ...\n",
      "2022-07-07  12408.70  12450.85  12370.60  12389.70  13086779      INR\n",
      "2022-07-08  12449.30  12460.05  12392.35  12449.45  11163043      INR\n",
      "2022-07-11  12447.85  12598.70  12386.90  12564.85  14386829      INR\n",
      "2022-07-12  12516.50  12587.30  12428.75  12450.65  10729214      INR\n",
      "2022-07-13  12487.50  12638.20  12443.40  12622.30     16671      INR\n",
      "\n",
      "[1237 rows x 6 columns]\n"
     ]
    }
   ],
   "source": [
    "def index_operator():\n",
    "    data = pd.read_csv('indexBook.csv')\n",
    "    list_of_indexs = data['IndexName']\n",
    "\n",
    "    for index in list_of_indexs:\n",
    "        search_country = investpy.search_quotes(text=index, products=['indices'], n_results=1)\n",
    "        generate_index_csv(index, search_country.country)\n",
    "\n",
    "index_operator()"
   ]
  },
  {
   "cell_type": "code",
   "execution_count": null,
   "id": "2d4b6ff0",
   "metadata": {},
   "outputs": [],
   "source": []
  },
  {
   "cell_type": "code",
   "execution_count": null,
   "id": "6237de18",
   "metadata": {},
   "outputs": [],
   "source": []
  }
 ],
 "metadata": {
  "kernelspec": {
   "display_name": "Python 3 (ipykernel)",
   "language": "python",
   "name": "python3"
  },
  "language_info": {
   "codemirror_mode": {
    "name": "ipython",
    "version": 3
   },
   "file_extension": ".py",
   "mimetype": "text/x-python",
   "name": "python",
   "nbconvert_exporter": "python",
   "pygments_lexer": "ipython3",
   "version": "3.8.5"
  }
 },
 "nbformat": 4,
 "nbformat_minor": 5
}
